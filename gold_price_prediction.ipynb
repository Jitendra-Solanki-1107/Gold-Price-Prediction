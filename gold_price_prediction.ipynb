{
 "cells": [
  {
   "cell_type": "markdown",
   "id": "d3b94501-bc4e-4463-9716-e3d3f16add9b",
   "metadata": {},
   "source": [
    "# Gold Price Prediction using Machine Learning"
   ]
  },
  {
   "cell_type": "markdown",
   "id": "714995e5-4901-482f-857e-e4f8dcbda920",
   "metadata": {},
   "source": [
    "Importing the dependencies"
   ]
  },
  {
   "cell_type": "code",
   "execution_count": 42,
   "id": "9702032e-ad3c-40fc-9592-47339a4dec45",
   "metadata": {},
   "outputs": [],
   "source": [
    "import numpy as np\n",
    "import pandas as pd\n",
    "import matplotlib.pyplot as plt\n",
    "import seaborn as sns\n",
    "from sklearn.model_selection import train_test_split\n",
    "from sklearn.ensemble import RandomForestRegressor\n",
    "from sklearn import metrics"
   ]
  },
  {
   "cell_type": "markdown",
   "id": "3caac174-7db5-48fe-899c-9d60e8d1e471",
   "metadata": {},
   "source": [
    "Data Collection and Pre Processing "
   ]
  },
  {
   "cell_type": "code",
   "execution_count": 43,
   "id": "c86e8294-0e40-44cd-b734-3ffa816174fd",
   "metadata": {},
   "outputs": [],
   "source": [
    "gold_data = pd.read_csv('gold_price_data.csv')"
   ]
  },
  {
   "cell_type": "code",
   "execution_count": 44,
   "id": "69e01b91-fe1a-42c1-9407-02cf94f78efa",
   "metadata": {},
   "outputs": [
    {
     "data": {
      "text/html": [
       "<div>\n",
       "<style scoped>\n",
       "    .dataframe tbody tr th:only-of-type {\n",
       "        vertical-align: middle;\n",
       "    }\n",
       "\n",
       "    .dataframe tbody tr th {\n",
       "        vertical-align: top;\n",
       "    }\n",
       "\n",
       "    .dataframe thead th {\n",
       "        text-align: right;\n",
       "    }\n",
       "</style>\n",
       "<table border=\"1\" class=\"dataframe\">\n",
       "  <thead>\n",
       "    <tr style=\"text-align: right;\">\n",
       "      <th></th>\n",
       "      <th>Date</th>\n",
       "      <th>SPX</th>\n",
       "      <th>GLD</th>\n",
       "      <th>USO</th>\n",
       "      <th>SLV</th>\n",
       "      <th>EUR/USD</th>\n",
       "    </tr>\n",
       "  </thead>\n",
       "  <tbody>\n",
       "    <tr>\n",
       "      <th>0</th>\n",
       "      <td>1/2/2008</td>\n",
       "      <td>1447.160034</td>\n",
       "      <td>84.860001</td>\n",
       "      <td>78.470001</td>\n",
       "      <td>15.180</td>\n",
       "      <td>1.471692</td>\n",
       "    </tr>\n",
       "    <tr>\n",
       "      <th>1</th>\n",
       "      <td>1/3/2008</td>\n",
       "      <td>1447.160034</td>\n",
       "      <td>85.570000</td>\n",
       "      <td>78.370003</td>\n",
       "      <td>15.285</td>\n",
       "      <td>1.474491</td>\n",
       "    </tr>\n",
       "    <tr>\n",
       "      <th>2</th>\n",
       "      <td>1/4/2008</td>\n",
       "      <td>1411.630005</td>\n",
       "      <td>85.129997</td>\n",
       "      <td>77.309998</td>\n",
       "      <td>15.167</td>\n",
       "      <td>1.475492</td>\n",
       "    </tr>\n",
       "    <tr>\n",
       "      <th>3</th>\n",
       "      <td>1/7/2008</td>\n",
       "      <td>1416.180054</td>\n",
       "      <td>84.769997</td>\n",
       "      <td>75.500000</td>\n",
       "      <td>15.053</td>\n",
       "      <td>1.468299</td>\n",
       "    </tr>\n",
       "    <tr>\n",
       "      <th>4</th>\n",
       "      <td>1/8/2008</td>\n",
       "      <td>1390.189941</td>\n",
       "      <td>86.779999</td>\n",
       "      <td>76.059998</td>\n",
       "      <td>15.590</td>\n",
       "      <td>1.557099</td>\n",
       "    </tr>\n",
       "  </tbody>\n",
       "</table>\n",
       "</div>"
      ],
      "text/plain": [
       "       Date          SPX        GLD        USO     SLV   EUR/USD\n",
       "0  1/2/2008  1447.160034  84.860001  78.470001  15.180  1.471692\n",
       "1  1/3/2008  1447.160034  85.570000  78.370003  15.285  1.474491\n",
       "2  1/4/2008  1411.630005  85.129997  77.309998  15.167  1.475492\n",
       "3  1/7/2008  1416.180054  84.769997  75.500000  15.053  1.468299\n",
       "4  1/8/2008  1390.189941  86.779999  76.059998  15.590  1.557099"
      ]
     },
     "execution_count": 44,
     "metadata": {},
     "output_type": "execute_result"
    }
   ],
   "source": [
    "# printing first 5 rows of data\n",
    "gold_data.head()"
   ]
  },
  {
   "cell_type": "code",
   "execution_count": 45,
   "id": "5dfeacf2-0a19-4375-b3dc-8d3481191b52",
   "metadata": {},
   "outputs": [
    {
     "data": {
      "text/plain": [
       "(2290, 6)"
      ]
     },
     "execution_count": 45,
     "metadata": {},
     "output_type": "execute_result"
    }
   ],
   "source": [
    "# checking shape of the data\n",
    "gold_data.shape"
   ]
  },
  {
   "cell_type": "code",
   "execution_count": 46,
   "id": "674ecd7c-d19d-49a5-b99e-5e296603dc09",
   "metadata": {},
   "outputs": [
    {
     "name": "stdout",
     "output_type": "stream",
     "text": [
      "<class 'pandas.core.frame.DataFrame'>\n",
      "RangeIndex: 2290 entries, 0 to 2289\n",
      "Data columns (total 6 columns):\n",
      " #   Column   Non-Null Count  Dtype  \n",
      "---  ------   --------------  -----  \n",
      " 0   Date     2290 non-null   object \n",
      " 1   SPX      2290 non-null   float64\n",
      " 2   GLD      2290 non-null   float64\n",
      " 3   USO      2290 non-null   float64\n",
      " 4   SLV      2290 non-null   float64\n",
      " 5   EUR/USD  2290 non-null   float64\n",
      "dtypes: float64(5), object(1)\n",
      "memory usage: 107.5+ KB\n"
     ]
    }
   ],
   "source": [
    "# More Basic information about the data\n",
    "gold_data.info()"
   ]
  },
  {
   "cell_type": "code",
   "execution_count": 47,
   "id": "0b438eb9-4163-43f1-b0b1-7a30414b931b",
   "metadata": {},
   "outputs": [
    {
     "data": {
      "text/plain": [
       "Date       0\n",
       "SPX        0\n",
       "GLD        0\n",
       "USO        0\n",
       "SLV        0\n",
       "EUR/USD    0\n",
       "dtype: int64"
      ]
     },
     "execution_count": 47,
     "metadata": {},
     "output_type": "execute_result"
    }
   ],
   "source": [
    "# Checking for null values \n",
    "gold_data.isnull().sum()"
   ]
  },
  {
   "cell_type": "code",
   "execution_count": 48,
   "id": "192e0386-b7f8-49b2-8f3b-36ca52a6e860",
   "metadata": {},
   "outputs": [
    {
     "data": {
      "text/html": [
       "<div>\n",
       "<style scoped>\n",
       "    .dataframe tbody tr th:only-of-type {\n",
       "        vertical-align: middle;\n",
       "    }\n",
       "\n",
       "    .dataframe tbody tr th {\n",
       "        vertical-align: top;\n",
       "    }\n",
       "\n",
       "    .dataframe thead th {\n",
       "        text-align: right;\n",
       "    }\n",
       "</style>\n",
       "<table border=\"1\" class=\"dataframe\">\n",
       "  <thead>\n",
       "    <tr style=\"text-align: right;\">\n",
       "      <th></th>\n",
       "      <th>SPX</th>\n",
       "      <th>GLD</th>\n",
       "      <th>USO</th>\n",
       "      <th>SLV</th>\n",
       "      <th>EUR/USD</th>\n",
       "    </tr>\n",
       "  </thead>\n",
       "  <tbody>\n",
       "    <tr>\n",
       "      <th>count</th>\n",
       "      <td>2290.000000</td>\n",
       "      <td>2290.000000</td>\n",
       "      <td>2290.000000</td>\n",
       "      <td>2290.000000</td>\n",
       "      <td>2290.000000</td>\n",
       "    </tr>\n",
       "    <tr>\n",
       "      <th>mean</th>\n",
       "      <td>1654.315776</td>\n",
       "      <td>122.732875</td>\n",
       "      <td>31.842221</td>\n",
       "      <td>20.084997</td>\n",
       "      <td>1.283653</td>\n",
       "    </tr>\n",
       "    <tr>\n",
       "      <th>std</th>\n",
       "      <td>519.111540</td>\n",
       "      <td>23.283346</td>\n",
       "      <td>19.523517</td>\n",
       "      <td>7.092566</td>\n",
       "      <td>0.131547</td>\n",
       "    </tr>\n",
       "    <tr>\n",
       "      <th>min</th>\n",
       "      <td>676.530029</td>\n",
       "      <td>70.000000</td>\n",
       "      <td>7.960000</td>\n",
       "      <td>8.850000</td>\n",
       "      <td>1.039047</td>\n",
       "    </tr>\n",
       "    <tr>\n",
       "      <th>25%</th>\n",
       "      <td>1239.874969</td>\n",
       "      <td>109.725000</td>\n",
       "      <td>14.380000</td>\n",
       "      <td>15.570000</td>\n",
       "      <td>1.171313</td>\n",
       "    </tr>\n",
       "    <tr>\n",
       "      <th>50%</th>\n",
       "      <td>1551.434998</td>\n",
       "      <td>120.580002</td>\n",
       "      <td>33.869999</td>\n",
       "      <td>17.268500</td>\n",
       "      <td>1.303297</td>\n",
       "    </tr>\n",
       "    <tr>\n",
       "      <th>75%</th>\n",
       "      <td>2073.010070</td>\n",
       "      <td>132.840004</td>\n",
       "      <td>37.827501</td>\n",
       "      <td>22.882500</td>\n",
       "      <td>1.369971</td>\n",
       "    </tr>\n",
       "    <tr>\n",
       "      <th>max</th>\n",
       "      <td>2872.870117</td>\n",
       "      <td>184.589996</td>\n",
       "      <td>117.480003</td>\n",
       "      <td>47.259998</td>\n",
       "      <td>1.598798</td>\n",
       "    </tr>\n",
       "  </tbody>\n",
       "</table>\n",
       "</div>"
      ],
      "text/plain": [
       "               SPX          GLD          USO          SLV      EUR/USD\n",
       "count  2290.000000  2290.000000  2290.000000  2290.000000  2290.000000\n",
       "mean   1654.315776   122.732875    31.842221    20.084997     1.283653\n",
       "std     519.111540    23.283346    19.523517     7.092566     0.131547\n",
       "min     676.530029    70.000000     7.960000     8.850000     1.039047\n",
       "25%    1239.874969   109.725000    14.380000    15.570000     1.171313\n",
       "50%    1551.434998   120.580002    33.869999    17.268500     1.303297\n",
       "75%    2073.010070   132.840004    37.827501    22.882500     1.369971\n",
       "max    2872.870117   184.589996   117.480003    47.259998     1.598798"
      ]
     },
     "execution_count": 48,
     "metadata": {},
     "output_type": "execute_result"
    }
   ],
   "source": [
    "# getting statical measures of the data\n",
    "gold_data.describe()"
   ]
  },
  {
   "cell_type": "code",
   "execution_count": 49,
   "id": "6041b5f1-c74d-48ea-ad00-6631366c1987",
   "metadata": {},
   "outputs": [
    {
     "data": {
      "text/plain": [
       "<AxesSubplot:>"
      ]
     },
     "execution_count": 49,
     "metadata": {},
     "output_type": "execute_result"
    },
    {
     "data": {
      "image/png": "[encoded data removed]",
      "text/plain": [
       "<Figure size 576x576 with 2 Axes>"
      ]
     },
     "metadata": {
      "needs_background": "light"
     },
     "output_type": "display_data"
    }
   ],
   "source": [
    "# Creating correaltion among data points\n",
    "correlation = gold_data.corr()\n",
    "\n",
    "# constructing a heat map to understand the correlation\n",
    "plt.figure(figsize=(8,8))\n",
    "sns.heatmap(correlation, cbar=True, square=True, fmt='.1f', annot=True, annot_kws={'size': 8}, cmap=('Blues'))"
   ]
  },
  {
   "cell_type": "code",
   "execution_count": 50,
   "id": "d800ae98-d397-48f1-887d-f41d595ef149",
   "metadata": {},
   "outputs": [
    {
     "name": "stdout",
     "output_type": "stream",
     "text": [
      "SPX        0.049345\n",
      "GLD        1.000000\n",
      "USO       -0.186360\n",
      "SLV        0.866632\n",
      "EUR/USD   -0.024375\n",
      "Name: GLD, dtype: float64\n"
     ]
    }
   ],
   "source": [
    "# Checking for correlation values of GLD\n",
    "\n",
    "print(correlation['GLD'])"
   ]
  },
  {
   "cell_type": "code",
   "execution_count": 51,
   "id": "d3efd10e-06a6-4c82-88f7-b0a410895642",
   "metadata": {},
   "outputs": [
    {
     "data": {
      "text/plain": [
       "<seaborn.axisgrid.FacetGrid at 0x2460aa80ca0>"
      ]
     },
     "execution_count": 51,
     "metadata": {},
     "output_type": "execute_result"
    },
    {
     "data": {
      "image/png": "[encoded data removed]",
      "text/plain": [
       "<Figure size 360x360 with 1 Axes>"
      ]
     },
     "metadata": {
      "needs_background": "light"
     },
     "output_type": "display_data"
    }
   ],
   "source": [
    "# Checking the distribution of GLD\n",
    "sns.displot(gold_data['GLD'], color='green')"
   ]
  },
  {
   "cell_type": "markdown",
   "id": "c862f697-aea6-4184-97a3-91bf18dab6fc",
   "metadata": {},
   "source": [
    "Spliting the Features and Targets"
   ]
  },
  {
   "cell_type": "code",
   "execution_count": 52,
   "id": "16358aa0-6756-4575-812b-29f5faf35b25",
   "metadata": {},
   "outputs": [],
   "source": [
    "X = gold_data.drop(['Date','GLD'], axis =1)\n",
    "Y = gold_data['GLD']"
   ]
  },
  {
   "cell_type": "code",
   "execution_count": 53,
   "id": "dcfec92f-f80e-4e2c-a4ff-a02952d8bb90",
   "metadata": {},
   "outputs": [
    {
     "name": "stdout",
     "output_type": "stream",
     "text": [
      "              SPX        USO      SLV   EUR/USD\n",
      "0     1447.160034  78.470001  15.1800  1.471692\n",
      "1     1447.160034  78.370003  15.2850  1.474491\n",
      "2     1411.630005  77.309998  15.1670  1.475492\n",
      "3     1416.180054  75.500000  15.0530  1.468299\n",
      "4     1390.189941  76.059998  15.5900  1.557099\n",
      "...           ...        ...      ...       ...\n",
      "2285  2671.919922  14.060000  15.5100  1.186789\n",
      "2286  2697.790039  14.370000  15.5300  1.184722\n",
      "2287  2723.070068  14.410000  15.7400  1.191753\n",
      "2288  2730.129883  14.380000  15.5600  1.193118\n",
      "2289  2725.780029  14.405800  15.4542  1.182033\n",
      "\n",
      "[2290 rows x 4 columns]\n"
     ]
    }
   ],
   "source": [
    "print(X)"
   ]
  },
  {
   "cell_type": "code",
   "execution_count": 54,
   "id": "c5796974-c783-4fc0-98b2-1cb3d00d0022",
   "metadata": {},
   "outputs": [
    {
     "name": "stdout",
     "output_type": "stream",
     "text": [
      "0        84.860001\n",
      "1        85.570000\n",
      "2        85.129997\n",
      "3        84.769997\n",
      "4        86.779999\n",
      "           ...    \n",
      "2285    124.589996\n",
      "2286    124.330002\n",
      "2287    125.180000\n",
      "2288    124.489998\n",
      "2289    122.543800\n",
      "Name: GLD, Length: 2290, dtype: float64\n"
     ]
    }
   ],
   "source": [
    "print(Y)"
   ]
  },
  {
   "cell_type": "markdown",
   "id": "b674b85b-1a84-4017-a0b7-cd1e20b15639",
   "metadata": {},
   "source": [
    "Splitting the data into Trainning and Testing Data"
   ]
  },
  {
   "cell_type": "code",
   "execution_count": 58,
   "id": "4ff28015-30a5-4525-a17b-cd083c81e0f2",
   "metadata": {},
   "outputs": [],
   "source": [
    "X_train, X_test,Y_train, Y_test = train_test_split(X, Y, test_size=0.2, random_state=2)"
   ]
  },
  {
   "cell_type": "markdown",
   "id": "2ccb01cc-be73-40a3-ad72-ea47ad9b33f9",
   "metadata": {},
   "source": [
    "Model Training = Random Forest Regressor "
   ]
  },
  {
   "cell_type": "code",
   "execution_count": 59,
   "id": "a685880d-63aa-4fb0-b9ff-2afcf161486f",
   "metadata": {},
   "outputs": [],
   "source": [
    "regressor = RandomForestRegressor(n_estimators=100)"
   ]
  },
  {
   "cell_type": "code",
   "execution_count": 60,
   "id": "b70936a4-cb0f-4c9f-a5e5-19638f92fdf3",
   "metadata": {},
   "outputs": [
    {
     "data": {
      "text/plain": [
       "RandomForestRegressor()"
      ]
     },
     "execution_count": 60,
     "metadata": {},
     "output_type": "execute_result"
    }
   ],
   "source": [
    "# training the model\n",
    "regressor.fit(X_train,Y_train)"
   ]
  },
  {
   "cell_type": "markdown",
   "id": "0277ba8b-3520-41a8-bd36-d8eedb0cd48b",
   "metadata": {},
   "source": [
    "Model Evaluation"
   ]
  },
  {
   "cell_type": "code",
   "execution_count": 61,
   "id": "160c83b0-4304-4af4-8bd4-1a9b50659ec6",
   "metadata": {},
   "outputs": [
    {
     "name": "stdout",
     "output_type": "stream",
     "text": [
      "[168.07049913  82.01889997 115.88739961 127.73840061 120.66550124\n",
      " 154.76599821 150.27249875 126.04270032 117.47089868 126.07810059\n",
      " 116.62490118 172.65150067 141.33889763 167.77139842 115.40499989\n",
      " 117.45310057 138.52190325 169.84430101 159.28990335 161.50599908\n",
      " 155.15599969 125.2520003  176.54089975 157.26180222 125.15930051\n",
      "  93.97110005  77.39450018 120.61189988 119.1330995  167.48099993\n",
      "  88.31340059 125.31540041  91.0836008  117.63300036 121.10059903\n",
      " 136.36600074 115.57680133 115.58750063 146.7620998  106.98520083\n",
      " 104.53880223  87.17349778 126.53460061 117.90750004 153.21059904\n",
      " 119.76560012 108.33910011 108.08179792  93.16900074 127.05379781\n",
      "  74.69510055 113.66149923 121.09249986 111.21319911 118.89109911\n",
      " 120.2294994  158.40870002 167.3813014  147.005997    85.79989857\n",
      "  94.44570054  86.8769989   90.7300998  119.05230092 126.45640061\n",
      " 127.50250028 169.65199976 122.25989935 117.25569916  98.51610045\n",
      " 168.03390099 143.33129811 132.64690225 121.22080213 121.34499922\n",
      " 120.09000057 114.41450176 118.55590069 106.86050106 127.86280124\n",
      " 113.90639945 107.47829988 116.81080075 119.69359874  89.06240082\n",
      "  88.29269852 147.15680251 127.26909949 113.3906002  110.0317983\n",
      " 108.297899    76.88829916 169.46270201 113.97879894 121.65659953\n",
      " 127.8527018  155.09759842  91.8766994  135.93850052 158.89110344\n",
      " 125.7693004  125.28780053 130.69690191 114.90970114 119.86660008\n",
      "  92.08269977 110.2510987  168.00119958 157.38219925 114.14369951\n",
      " 106.67850122  79.73929978 113.13470035 125.85210076 107.48579977\n",
      " 119.63210106 155.62230351 159.54829883 120.44909999 134.62350276\n",
      " 101.36089994 117.57959809 119.30940023 113.10400111 102.75369896\n",
      " 160.08079734  99.05020046 148.93129919 125.44450105 169.80769901\n",
      " 125.50909895 127.3980973  127.38930157 113.85019935 112.81140076\n",
      " 123.5797988  102.11339882  89.42049991 124.50129977 101.83309926\n",
      " 107.14249913 113.54090044 117.3108009   99.22899944 121.88360037\n",
      " 163.61859916  87.40179869 106.79399952 117.36160085 127.62040127\n",
      " 124.23100041  80.85749924 120.25290061 157.99789809  88.06199967\n",
      " 110.30899963 118.86959891 173.16969871 102.93319915 105.5831004\n",
      " 122.37660033 158.17379772  87.46989832  93.58360072 112.92220028\n",
      " 177.68749944 114.45049972 119.26770015  94.47000103 125.63550034\n",
      " 166.15300141 114.75320042 116.77580158  88.36269856 148.88950116\n",
      " 120.32849948  89.35639989 111.45309963 117.6133008  118.63490114\n",
      "  88.24069955  94.03230004 117.34680003 118.53260189 120.39510074\n",
      " 126.77949818 121.92780003 150.64310012 165.25420075 118.57069967\n",
      " 120.26730122 150.07440046 118.31619911 173.20519915 105.70619943\n",
      " 105.01100088 149.94740128 113.87660065 124.8782012  147.62599933\n",
      " 119.66650092 115.36410039 112.40399977 113.3926021  139.83340099\n",
      " 117.68519787 102.89530027 115.92640105 103.77650184  98.97950028\n",
      " 117.55220068  90.65959993  91.39110035 153.47649805 102.62839969\n",
      " 154.80930075 114.26620197 138.43720078  90.08969815 115.5317992\n",
      " 114.83549975 122.89880012 121.71350047 165.4289015   92.78929965\n",
      " 135.17860076 121.28969944 120.75830043 104.91070011 142.36790272\n",
      " 121.84519922 116.67460037 113.38370117 126.79379742 122.61569953\n",
      " 125.79349941 121.25280048  86.84729867 132.34100119 144.91050264\n",
      "  92.70279943 157.57480014 159.29370319 126.21569899 165.07009977\n",
      " 108.95500002 109.62100054 103.48849801  94.5140005  127.8602027\n",
      " 107.22960035 161.28820022 121.73450025 131.83230075 130.72210225\n",
      " 160.44139935  90.07849864 176.24670221 127.67610062 126.69939869\n",
      "  86.19589942 124.70759941 149.90349727  89.57310019 106.95369974\n",
      " 109.08549983  84.933999   135.70229941 155.12640229 138.77080366\n",
      "  74.20790026 152.39100066 126.25179997 126.78510003 127.46209915\n",
      " 108.5387998  156.45650066 114.50980113 116.99800141 125.49089991\n",
      " 154.07110165 121.32199992 156.32539917  92.8886005  125.55740207\n",
      " 125.71020037  87.94940056  92.0317996  126.03259961 128.25540327\n",
      " 113.17090033 117.60309725 120.88089999 126.77169786 119.5458009\n",
      " 136.62330109  93.93439973 120.33690042 113.01670072  94.29519968\n",
      " 108.85969987  88.03569923 109.37939926  89.68659972  92.42920043\n",
      " 131.60230364 162.36310052  89.16620039 119.9105009  133.30090183\n",
      " 123.91670047 128.49350241 101.96109846  88.84599892 131.93390049\n",
      " 119.9450004  108.66969978 168.1619002  115.18130022  86.5775989\n",
      " 118.78440054  91.15799967 162.08950069 116.63210035 121.54110021\n",
      " 160.15369775 120.27489943 112.51659938 108.45699866 126.70960011\n",
      "  75.75200043 103.15339976 127.78580273 121.82829909  92.46910012\n",
      " 132.03440049 118.0340012  116.25519992 154.38520273 159.95920094\n",
      " 110.08699942 154.01319712 119.26690088 160.2677008  118.57400036\n",
      " 157.89259923 115.14609868 116.53500055 148.21299909 114.59700075\n",
      " 126.10459905 167.58749861 117.85570017 125.14459944 153.27730368\n",
      " 153.47860255 132.11380057 114.58580032 121.27680197 124.78700087\n",
      "  89.81860034 123.10880003 155.13300261 111.76300018 106.72089987\n",
      " 162.11510152 118.70729963 165.67199996 134.12730079 114.97699938\n",
      " 152.93469906 168.96840055 115.22559963 113.88540125 156.95119845\n",
      "  85.01839884 127.11240028 127.95030042 128.92159989 124.26990082\n",
      " 123.95500079  90.64080087 153.13790036  97.0906001  136.98479995\n",
      "  88.83899929 107.47300005 115.09270061 112.83800091 124.0947996\n",
      "  91.47139899 125.32180088 162.19479873 120.17039879 165.26730087\n",
      " 126.7788982  112.37739991 127.56549911  95.08639888  91.20119956\n",
      " 103.72939915 120.80030003  83.4785993  126.36309993 160.08090482\n",
      " 117.50500075 118.21439971 120.07389985 122.64589944 120.01580132\n",
      " 121.4843999  118.23410017 107.05559976 148.53490029 126.35809849\n",
      " 115.71840076  73.84790033 127.80470063 154.80560063 122.28530014\n",
      " 125.61320056  88.85300008 103.17869873 124.86020062 120.38910016\n",
      "  73.45480087 151.76179947 120.95660025 104.82389997  86.42059774\n",
      " 115.154499   172.25029768 119.93950037 160.07729871 113.21919949\n",
      " 121.03130004 118.45230131  95.97529987 118.6491999  125.89160057\n",
      " 118.52679942  96.17030083 153.97820108 122.01700012 147.91529969\n",
      " 158.60550194 113.5013003  122.46199939 150.51679889 127.38400051\n",
      " 165.71090047 136.48050053 120.26189961 167.33519876 108.4274992\n",
      " 121.77929861 139.17800159 107.78399864]\n"
     ]
    }
   ],
   "source": [
    "# Prediction on test data \n",
    "\n",
    "test_data_prediction = regressor.predict(X_test)\n",
    "print(test_data_prediction)"
   ]
  },
  {
   "cell_type": "code",
   "execution_count": 63,
   "id": "2a7ce0c4-914b-4594-bb69-5d9cc8ba7ba0",
   "metadata": {},
   "outputs": [
    {
     "name": "stdout",
     "output_type": "stream",
     "text": [
      "R Square Error: 0.9896895122916126\n"
     ]
    }
   ],
   "source": [
    "# R Square Error\n",
    "error_score = metrics.r2_score(Y_test, test_data_prediction)\n",
    "print('R Square Error:', error_score)"
   ]
  },
  {
   "cell_type": "code",
   "execution_count": 64,
   "id": "c08f0c9b-dfbe-4b32-b038-be10485fcfa3",
   "metadata": {},
   "outputs": [],
   "source": [
    "# Compare Actual Values with real values\n",
    "\n",
    "Y_test = list(Y_test)"
   ]
  },
  {
   "cell_type": "code",
   "execution_count": 65,
   "id": "a0053a15-7a99-4988-b514-a6cc3ba6784d",
   "metadata": {},
   "outputs": [
    {
     "data": {
      "image/png": "[encoded data removed]",
      "text/plain": [
       "<Figure size 432x288 with 1 Axes>"
      ]
     },
     "metadata": {
      "needs_background": "light"
     },
     "output_type": "display_data"
    }
   ],
   "source": [
    "plt.plot(Y_test, color= 'blue', label='Actual Values')\n",
    "plt.plot(test_data_prediction, color='green', label= 'Predicted value')\n",
    "plt.title('Actual Price vs Predicted Price')\n",
    "plt.xlabel('Number of values')\n",
    "plt.ylabel('GLD Price')\n",
    "plt.legend()\n",
    "plt.show()"
   ]
  },
  {
   "cell_type": "code",
   "execution_count": null,
   "id": "3d8f3d21-9827-4202-b023-86a176537918",
   "metadata": {},
   "outputs": [],
   "source": []
  }
 ],
 "metadata": {
  "kernelspec": {
   "display_name": "Python 3 (ipykernel)",
   "language": "python",
   "name": "python3"
  },
  "language_info": {
   "codemirror_mode": {
    "name": "ipython",
    "version": 3
   },
   "file_extension": ".py",
   "mimetype": "text/x-python",
   "name": "python",
   "nbconvert_exporter": "python",
   "pygments_lexer": "ipython3",
   "version": "3.9.7"
  }
 },
 "nbformat": 4,
 "nbformat_minor": 5
}
